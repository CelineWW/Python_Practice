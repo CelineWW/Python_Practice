{
  "nbformat": 4,
  "nbformat_minor": 0,
  "metadata": {
    "colab": {
      "provenance": []
    },
    "kernelspec": {
      "name": "python3",
      "display_name": "Python 3"
    },
    "language_info": {
      "name": "python"
    }
  },
  "cells": [
    {
      "cell_type": "code",
      "execution_count": null,
      "metadata": {
        "colab": {
          "base_uri": "https://localhost:8080/"
        },
        "id": "QPjFikHIYrLv",
        "outputId": "acc72c05-d4f2-46a8-e645-5c948d94e1f6"
      },
      "outputs": [
        {
          "output_type": "stream",
          "name": "stdout",
          "text": [
            "Welcome to Python.\n",
            "Welcome to Python.\n"
          ]
        }
      ],
      "source": [
        "# Write a programe to print \"Welcome to Python\".\n",
        "print(\"Welcome to Python.\")\n",
        "print('Welcome to Python.')"
      ]
    },
    {
      "cell_type": "code",
      "source": [
        "# WAP to get the sum of 2 numbers.\n",
        "# Mathmatical operators + - * / //(return int or value without decimal) %(moduluas return the remaider) **(exponent)\n",
        "num = 10 # variable name should starts with character allows only one special character i.e. _(under score)\n",
        "num_1 = 20.20 # dynamic varible\n",
        "name = \"python\" # anything we write within \"\" or '' will be str(string)\n",
        "result = True # boolean\n",
        "# check data type \n",
        "print(type(num))\n",
        "print(type(num_1))\n",
        "print(type(name))\n",
        "print(type(result))"
      ],
      "metadata": {
        "colab": {
          "base_uri": "https://localhost:8080/"
        },
        "id": "tB3RawoJZbHZ",
        "outputId": "982e7378-7a56-4483-fa08-eef8f6668652"
      },
      "execution_count": null,
      "outputs": [
        {
          "output_type": "stream",
          "name": "stdout",
          "text": [
            "<class 'int'>\n",
            "<class 'float'>\n",
            "<class 'str'>\n",
            "<class 'bool'>\n"
          ]
        }
      ]
    },
    {
      "cell_type": "code",
      "source": [
        "num = 20\n",
        "num1 = 30\n",
        "result = num + num1\n",
        "print(result)\n",
        "print(\"The sum of two number is\",result)\n",
        "print(num, \"+\", num1, \"=\", result)"
      ],
      "metadata": {
        "colab": {
          "base_uri": "https://localhost:8080/"
        },
        "id": "wNno08glbhhY",
        "outputId": "787ea9dc-e185-42f3-9cf8-f72d7dce05a9"
      },
      "execution_count": null,
      "outputs": [
        {
          "output_type": "stream",
          "name": "stdout",
          "text": [
            "50\n",
            "The sum of two number is 50\n",
            "20 + 30 = 50\n"
          ]
        }
      ]
    },
    {
      "cell_type": "code",
      "source": [
        "print(3+2)\n",
        "print(3-2)\n",
        "print(3*2)\n",
        "print(3/2)\n",
        "print(3//2) # Returns the whole number.\n",
        "print(3%2) # Returns the remaider.\n",
        "print(3**2) # Exponent 3 will be multiplied 2 times. x to to power y."
      ],
      "metadata": {
        "colab": {
          "base_uri": "https://localhost:8080/"
        },
        "id": "9SA0hvCFcJs-",
        "outputId": "e31421ca-bd4a-4d12-ae80-66d3db0d32e4"
      },
      "execution_count": null,
      "outputs": [
        {
          "output_type": "stream",
          "name": "stdout",
          "text": [
            "5\n",
            "1\n",
            "6\n",
            "1.5\n",
            "1\n",
            "1\n",
            "9\n"
          ]
        }
      ]
    },
    {
      "cell_type": "code",
      "source": [
        "# Condition or rule, we can use if, elif, else.\n",
        "# if <condition>:\n",
        "# tab or 5 space i.e.(indent) <statement>\n",
        "# else: (optional)\n",
        "# tab or 5 space i.e.(indent) <statement>"
      ],
      "metadata": {
        "id": "iKMQ-Te4cv43"
      },
      "execution_count": null,
      "outputs": []
    },
    {
      "cell_type": "code",
      "source": [
        "# WAP to take age is greater than equal to 18 eligible to vote.\n",
        "# age = int(input(\"How old are you?\"))\n",
        "age = 59\n",
        "if age >= 60:\n",
        "  print(\"Eligible to vote Online!!\")\n",
        "elif age >= 18:\n",
        "  print(\"Eligible to vote!!\")\n",
        "else :\n",
        "  print(\"Grow Up!!\")"
      ],
      "metadata": {
        "colab": {
          "base_uri": "https://localhost:8080/"
        },
        "id": "E-NlWJsWdb5h",
        "outputId": "08a2d4df-2678-41aa-efde-e17cf61e8d58"
      },
      "execution_count": null,
      "outputs": [
        {
          "output_type": "stream",
          "name": "stdout",
          "text": [
            "Eligible to vote!!\n"
          ]
        }
      ]
    },
    {
      "cell_type": "code",
      "source": [
        "# Input from the user or keyboard.\n",
        "# input(<message>)-Always return str or string.\n",
        "age = int(input(\"How old are you?\"))\n",
        "print(type(age))\n",
        "if age >= 60:\n",
        "  print(\"Eligible to vote Online!!\")\n",
        "elif age >= 18:\n",
        "  print(\"Eligible to vote!!\")\n",
        "else :\n",
        "  print(\"Grow Up!!\")\n",
        "\n"
      ],
      "metadata": {
        "colab": {
          "base_uri": "https://localhost:8080/"
        },
        "id": "Qrpt2OBEe15M",
        "outputId": "bc3aff65-7664-436b-d996-2f5da1afc206"
      },
      "execution_count": null,
      "outputs": [
        {
          "output_type": "stream",
          "name": "stdout",
          "text": [
            "How old are you?34\n",
            "<class 'int'>\n",
            "Eligible to vote!!\n"
          ]
        }
      ]
    },
    {
      "cell_type": "code",
      "source": [
        "num1 = int(input(\"Enter the first number: \"))\n",
        "num2 = int(input(\"Enter the second number: \"))\n",
        "print('---------------------Menu--------------------')\n",
        "print(\"1. Additon\\n 2. Minus\\n 3. Multiply\\n 4. Divide\\n 5. Modulus\")\n",
        "ch = int(input(\"Enter your choice 1 to 5: \"))\n",
        "\n",
        "if ch == 1:\n",
        "  result = num1 + num2\n",
        "  op = '+'\n",
        "elif ch == 2:\n",
        "  result = num1 - num2\n",
        "  op = '-'\n",
        "elif ch == 3:\n",
        "  result = num1 * num2\n",
        "  op = '*'\n",
        "elif ch == 4:\n",
        "  result = num1 / num2\n",
        "  op = '/'\n",
        "elif ch == 5:\n",
        "  result = num1 % num2\n",
        "  op = '%'\n",
        "else: \n",
        "  result = \"Invalid Choice\"\n",
        "print(num1,op,num2,\"=\", result)\n"
      ],
      "metadata": {
        "colab": {
          "base_uri": "https://localhost:8080/"
        },
        "id": "JmdHc_LPf9GV",
        "outputId": "4eca4c60-79ef-4c8a-910d-f0a777b08e8d"
      },
      "execution_count": null,
      "outputs": [
        {
          "output_type": "stream",
          "name": "stdout",
          "text": [
            "Enter the first number: 34\n",
            "Enter the second number: 5\n",
            "---------------------Menu--------------------\n",
            "1. Additon\n",
            " 2. Minus\n",
            " 3. Multiply\n",
            " 4. Divide\n",
            " 5. Modulus\n",
            "Enter your choice 1 to 5: 3\n",
            "34 * 5 = 170\n"
          ]
        }
      ]
    },
    {
      "cell_type": "code",
      "source": [
        "# WAP to input the number and check the number is odd or even.\n",
        "num = int(input(\"Enter a number:\"))\n",
        "if num % 2 == 1:\n",
        "  print(num, \"is an odd number.\")\n",
        "elif num % 2 == 0:\n",
        "  print(num, \"is an even number.\")\n",
        "else:\n",
        "  print(\"This is not a number.\")"
      ],
      "metadata": {
        "colab": {
          "base_uri": "https://localhost:8080/"
        },
        "id": "mXsnQTzRfeER",
        "outputId": "5e6a068e-b83d-4490-de37-4e6becfccb71"
      },
      "execution_count": null,
      "outputs": [
        {
          "output_type": "stream",
          "name": "stdout",
          "text": [
            "Enter a number:35\n",
            "35 is an odd number.\n"
          ]
        }
      ]
    },
    {
      "cell_type": "code",
      "source": [
        "# WAP to input the number and check whether the number is prime number.\n",
        "num = int(input(\"Enter a number:\"))\n",
        "if num <= 1:\n",
        "  print(num, \"is not a prime number.\")\n",
        "elif num in [2, 3, 5, 7] or num % 2 == 0 or num % 3 == 0 or num % 5 == 0 or num % 7 == 0:\n",
        "  print(num, \"is not a prime number.\")\n",
        "else: \n",
        "  print(num, \"is a prime number.\")"
      ],
      "metadata": {
        "colab": {
          "base_uri": "https://localhost:8080/"
        },
        "id": "XdGUNPlkh3ps",
        "outputId": "fdac2e38-451c-45a6-8c62-ab344e20e0da"
      },
      "execution_count": null,
      "outputs": [
        {
          "output_type": "stream",
          "name": "stdout",
          "text": [
            "Enter a number:101\n",
            "101 is a prime number.\n"
          ]
        }
      ]
    },
    {
      "cell_type": "code",
      "source": [
        "# WAP to check prime number by counting its factors.\n",
        "num = int(input(\"Enter a number:\")) \n",
        "if num > 1 :\n",
        "  fac = 1 # A factor that is the number itself.\n",
        "  for i in range(1, num): # Divsors from 1 to num-1.\n",
        "    if num % i == 0:\n",
        "      fac += 1\n",
        "  if fac > 2 : # The number has more than two factors(including 1 and itself).\n",
        "    print(num, \"is not a prime number.\")\n",
        "  else: \n",
        "    print(num, \"is a prime number.\")\n",
        "else: # Numbers that <= 1 are excluded.\n",
        "  print(num, \"is not a prime number.\")\n"
      ],
      "metadata": {
        "colab": {
          "base_uri": "https://localhost:8080/"
        },
        "id": "GoViuFMa4b6q",
        "outputId": "d45fcf76-dc15-4b51-83d1-908597f6c598"
      },
      "execution_count": null,
      "outputs": [
        {
          "output_type": "stream",
          "name": "stdout",
          "text": [
            "Enter a number:36\n",
            "36 is not a prime number.\n"
          ]
        }
      ]
    },
    {
      "cell_type": "code",
      "source": [
        "# WAP to check run time of prime number program.\n",
        "import time\n",
        "num = int(input(\"Enter a number:\")) \n",
        "start = time.time()\n",
        "\n",
        "if num > 1 :\n",
        "  fac = 1 # A factor that is the number itself.\n",
        "  for i in range(1, num): # Divsors from 1 to num-1.\n",
        "    if num % i == 0:\n",
        "      fac += 1\n",
        "  if fac > 2 : # The number has more than two factors(including 1 and itself).\n",
        "    print(num, \"is not a prime number.\")\n",
        "  else: \n",
        "    print(num, \"is a prime number.\")\n",
        "else: # Numbers that <= 1 are excluded.\n",
        "  print(num, \"is not a prime number.\")\n",
        "\n",
        "end = time.time()\n",
        "run_time = end - start\n",
        "print(\"It took \", run_time, \"seconds to run this code.\")"
      ],
      "metadata": {
        "colab": {
          "base_uri": "https://localhost:8080/"
        },
        "id": "bsqkC7hQlEIT",
        "outputId": "e8ab4d25-4832-47fd-bce4-af88bf974c73"
      },
      "execution_count": null,
      "outputs": [
        {
          "output_type": "stream",
          "name": "stdout",
          "text": [
            "Enter a number:101\n",
            "101 is a prime number.\n",
            "It took  0.00033473968505859375 seconds to run this code.\n"
          ]
        }
      ]
    },
    {
      "cell_type": "code",
      "source": [
        "# WAP to check run time of prime number function program.\n",
        "import time\n",
        "num1 = int(input(\"Enter a number 1:\")) \n",
        "num2 = int(input(\"Enter a number 2:\")) \n",
        "num3 = int(input(\"Enter a number 3:\")) \n",
        "start = time.time()\n",
        "\n",
        "def isPrime(num):\n",
        "  if num > 1 :\n",
        "    fac = 1 # A factor that is the number itself.\n",
        "    for i in range(1, num): # Divsors from 1 to num-1.\n",
        "      if num % i == 0:\n",
        "        fac += 1\n",
        "    if fac > 2 : # The number has more than two factors(including 1 and itself).\n",
        "      print(num, \"is not a prime number.\")\n",
        "    else: \n",
        "      print(num, \"is a prime number.\")\n",
        "  else: # Numbers that <= 1 are excluded.\n",
        "    print(num, \"is not a prime number.\")\n",
        "  return \n",
        "\n",
        "isPrime(num1)\n",
        "isPrime(num2)\n",
        "isPrime(num3)\n",
        "\n",
        "end = time.time()\n",
        "run_time = end - start\n",
        "print(\"It took \", run_time, \"seconds to run this code.\")"
      ],
      "metadata": {
        "colab": {
          "base_uri": "https://localhost:8080/"
        },
        "id": "fWidfIrQmfSm",
        "outputId": "ff7219bb-1d3f-4749-bbe0-f78e27c92642"
      },
      "execution_count": null,
      "outputs": [
        {
          "output_type": "stream",
          "name": "stdout",
          "text": [
            "Enter a number 1:101\n",
            "Enter a number 2:467\n",
            "Enter a number 3:985\n",
            "101 is a prime number.\n",
            "467 is a prime number.\n",
            "985 is not a prime number.\n",
            "It took  0.0025157928466796875 seconds to run this code.\n"
          ]
        }
      ]
    },
    {
      "cell_type": "code",
      "source": [
        "# WAP to check run time of prime number program by counting its factors.\n",
        "num1 = int(input(\"Enter a number 1:\")) \n",
        "num2 = int(input(\"Enter a number 2:\")) \n",
        "num3 = int(input(\"Enter a number 3:\")) \n",
        "start = time.time()\n",
        "\n",
        "if num1 > 1 :\n",
        "  fac = 1 # A factor that is the number itself.\n",
        "  for i in range(1, num1): # Divsors from 1 to num-1.\n",
        "    if num1 % i == 0:\n",
        "      fac += 1\n",
        "  if fac > 2 : # The number has more than two factors(including 1 and itself).\n",
        "    print(num1, \"is not a prime number.\")\n",
        "  else: \n",
        "    print(num1, \"is a prime number.\")\n",
        "else: # Numbers that <= 1 are excluded.\n",
        "  print(num1, \"is not a prime number.\")\n",
        "\n",
        "if num2 > 1 :\n",
        "  fac = 1 # A factor that is the number itself.\n",
        "  for i in range(1, num2): # Divsors from 1 to num-1.\n",
        "    if num2 % i == 0:\n",
        "      fac += 1\n",
        "  if fac > 2 : # The number has more than two factors(including 1 and itself).\n",
        "    print(num2, \"is not a prime number.\")\n",
        "  else: \n",
        "    print(num2, \"is a prime number.\")\n",
        "else: # Numbers that <= 1 are excluded.\n",
        "  print(num2, \"is not a prime number.\")\n",
        "\n",
        "if num3 > 1 :\n",
        "  fac = 1 # A factor that is the number itself.\n",
        "  for i in range(1, num3): # Divsors from 1 to num-1.\n",
        "    if num3 % i == 0:\n",
        "      fac += 1\n",
        "  if fac > 2 : # The number has more than two factors(including 1 and itself).\n",
        "    print(num3, \"is not a prime number.\")\n",
        "  else: \n",
        "    print(num3, \"is a prime number.\")\n",
        "else: # Numbers that <= 1 are excluded.\n",
        "  print(num3, \"is not a prime number.\")\n",
        "\n",
        "end = time.time()\n",
        "run_time = end - start\n",
        "print(\"It took \", run_time, \"seconds to run this code.\")"
      ],
      "metadata": {
        "colab": {
          "base_uri": "https://localhost:8080/"
        },
        "id": "VctHzSGfoEPH",
        "outputId": "0b742a2d-d624-4841-f049-d554e7889d17"
      },
      "execution_count": null,
      "outputs": [
        {
          "output_type": "stream",
          "name": "stdout",
          "text": [
            "Enter a number 1:101\n",
            "Enter a number 2:467\n",
            "Enter a number 3:985\n",
            "101 is a prime number.\n",
            "467 is a prime number.\n",
            "985 is not a prime number.\n",
            "It took  0.0026574134826660156 seconds to run this code.\n"
          ]
        }
      ]
    },
    {
      "cell_type": "code",
      "source": [
        "# WAP to check the run time of prime number programe.\n",
        "num = int(input(\"Enter a number:\"))\n",
        "start = time.time()\n",
        "\n",
        "if num <= 1:\n",
        "  print(num, \"is not a prime number.\")\n",
        "elif num in [2, 3, 5, 7] or num % 2 == 0 or num % 3 == 0 or num % 5 == 0 or num % 7 == 0:\n",
        "  print(num, \"is not a prime number.\")\n",
        "else: \n",
        "  print(num, \"is a prime number.\")\n",
        "\n",
        "end = time.time()\n",
        "run_time = end - start\n",
        "print(\"It took \", run_time, \"seconds to run this code.\")"
      ],
      "metadata": {
        "colab": {
          "base_uri": "https://localhost:8080/"
        },
        "id": "gPuoeO5wo-ZN",
        "outputId": "4bce01c4-f353-4c63-fd2c-a96269122a8d"
      },
      "execution_count": null,
      "outputs": [
        {
          "output_type": "stream",
          "name": "stdout",
          "text": [
            "Enter a number:101\n",
            "101 is a prime number.\n",
            "It took  0.0011415481567382812 seconds to run this code.\n"
          ]
        }
      ]
    },
    {
      "cell_type": "code",
      "source": [
        "# WAP to check run time of prime number function program.\n",
        "import time\n",
        "num1 = int(input(\"Enter a number 1:\")) \n",
        "num2 = int(input(\"Enter a number 2:\")) \n",
        "num3 = int(input(\"Enter a number 3:\")) \n",
        "start = time.time()\n",
        "\n",
        "def isPrime(num):\n",
        "  if num <= 1:\n",
        "    print(num, \"is not a prime number.\")\n",
        "  elif num in [2, 3, 5, 7] or num % 2 == 0 or num % 3 == 0 or num % 5 == 0 or num % 7 == 0:\n",
        "    print(num, \"is not a prime number.\")\n",
        "  else: \n",
        "    print(num, \"is a prime number.\")\n",
        "  return\n",
        "\n",
        "isPrime(num1)\n",
        "isPrime(num2)\n",
        "isPrime(num3)\n",
        "\n",
        "end = time.time()\n",
        "run_time = end - start\n",
        "print(\"It took \", run_time, \"seconds to run this code.\")"
      ],
      "metadata": {
        "colab": {
          "base_uri": "https://localhost:8080/"
        },
        "id": "4Xxlr2WGo-Pp",
        "outputId": "c3ad45a9-b503-41f4-a283-a23e05857ab1"
      },
      "execution_count": null,
      "outputs": [
        {
          "output_type": "stream",
          "name": "stdout",
          "text": [
            "Enter a number 1:101\n",
            "Enter a number 2:467\n",
            "Enter a number 3:985\n",
            "101 is a prime number.\n",
            "467 is a prime number.\n",
            "985 is not a prime number.\n",
            "It took  0.0009999275207519531 seconds to run this code.\n"
          ]
        }
      ]
    },
    {
      "cell_type": "code",
      "source": [
        "# WAP to check run time of prime number function program.\n",
        "import time\n",
        "num1 = int(input(\"Enter a number 1:\")) \n",
        "num2 = int(input(\"Enter a number 2:\")) \n",
        "num3 = int(input(\"Enter a number 3:\")) \n",
        "start = time.time()\n",
        "\n",
        "if num1 <= 1:\n",
        "  print(num1, \"is not a prime number.\")\n",
        "elif num in [2, 3, 5, 7] or num1 % 2 == 0 or num1 % 3 == 0 or num1 % 5 == 0 or num1 % 7 == 0:\n",
        "  print(num1, \"is not a prime number.\")\n",
        "else: \n",
        "  print(num1, \"is a prime number.\")\n",
        "\n",
        "if num2 <= 1:\n",
        "  print(num2, \"is not a prime number.\")\n",
        "elif num2 in [2, 3, 5, 7] or num2 % 2 == 0 or num2 % 3 == 0 or num2 % 5 == 0 or num2 % 7 == 0:\n",
        "  print(num2, \"is not a prime number.\")\n",
        "else: \n",
        "  print(num2, \"is a prime number.\")\n",
        "\n",
        "if num3 <= 1:\n",
        "  print(num3, \"is not a prime number.\")\n",
        "elif num in [2, 3, 5, 7] or num3 % 2 == 0 or num3 % 3 == 0 or num3 % 5 == 0 or num3 % 7 == 0:\n",
        "  print(num3, \"is not a prime number.\")\n",
        "else: \n",
        "  print(num3, \"is a prime number.\")\n",
        "\n",
        "end = time.time()\n",
        "run_time = end - start\n",
        "print(\"It took \", run_time, \"seconds to run this code.\")"
      ],
      "metadata": {
        "colab": {
          "base_uri": "https://localhost:8080/"
        },
        "id": "r_PSKoD2qBGj",
        "outputId": "e7f6c75e-bc68-4ead-cf5c-beb93b8fdc9e"
      },
      "execution_count": null,
      "outputs": [
        {
          "output_type": "stream",
          "name": "stdout",
          "text": [
            "Enter a number 1:101\n",
            "Enter a number 2:467\n",
            "Enter a number 3:985\n",
            "101 is a prime number.\n",
            "467 is a prime number.\n",
            "985 is not a prime number.\n",
            "It took  0.00212860107421875 seconds to run this code.\n"
          ]
        }
      ]
    },
    {
      "cell_type": "code",
      "source": [
        "# Loop - to continue the work till the condition satisfied.\n",
        "# While loop and For loop\n",
        "# While loop initialization conditon increment or decrement\n",
        "# WAP to print your name for 20 times.\n",
        "start = 1 \n",
        "stop = 20\n",
        "while start <= stop:\n",
        "  print (start, \":Python !!!\")\n",
        "  # increment the value of start by 1\n",
        "  start = start + 1"
      ],
      "metadata": {
        "colab": {
          "base_uri": "https://localhost:8080/"
        },
        "id": "Lv-b8aPzpMaU",
        "outputId": "f3724a04-84b7-44b6-cb6a-ae211dd56bae"
      },
      "execution_count": null,
      "outputs": [
        {
          "output_type": "stream",
          "name": "stdout",
          "text": [
            "1 :Python !!!\n",
            "2 :Python !!!\n",
            "3 :Python !!!\n",
            "4 :Python !!!\n",
            "5 :Python !!!\n",
            "6 :Python !!!\n",
            "7 :Python !!!\n",
            "8 :Python !!!\n",
            "9 :Python !!!\n",
            "10 :Python !!!\n",
            "11 :Python !!!\n",
            "12 :Python !!!\n",
            "13 :Python !!!\n",
            "14 :Python !!!\n",
            "15 :Python !!!\n",
            "16 :Python !!!\n",
            "17 :Python !!!\n",
            "18 :Python !!!\n",
            "19 :Python !!!\n",
            "20 :Python !!!\n"
          ]
        }
      ]
    },
    {
      "cell_type": "code",
      "source": [
        "# WAP to print your name for 20 times.\n",
        "start = 1 \n",
        "stop = 20\n",
        "while stop >= start:\n",
        "  print (stop, \":Python !!!\")\n",
        "  # decrement the value of stop by 1\n",
        "  stop = stop - 1"
      ],
      "metadata": {
        "colab": {
          "base_uri": "https://localhost:8080/"
        },
        "id": "gnLC9LeqrbCc",
        "outputId": "0ec182d9-2ccc-455f-a1fc-a509ab60f03b"
      },
      "execution_count": null,
      "outputs": [
        {
          "output_type": "stream",
          "name": "stdout",
          "text": [
            "20 :Python !!!\n",
            "19 :Python !!!\n",
            "18 :Python !!!\n",
            "17 :Python !!!\n",
            "16 :Python !!!\n",
            "15 :Python !!!\n",
            "14 :Python !!!\n",
            "13 :Python !!!\n",
            "12 :Python !!!\n",
            "11 :Python !!!\n",
            "10 :Python !!!\n",
            "9 :Python !!!\n",
            "8 :Python !!!\n",
            "7 :Python !!!\n",
            "6 :Python !!!\n",
            "5 :Python !!!\n",
            "4 :Python !!!\n",
            "3 :Python !!!\n",
            "2 :Python !!!\n",
            "1 :Python !!!\n"
          ]
        }
      ]
    },
    {
      "cell_type": "code",
      "source": [
        "# Function: write once use or call as many time as you want.\n",
        "# def <function name> (parameter, parameter, ...): it may return value or may not return value.\n",
        "def myPrint(val):\n",
        "  print(val)"
      ],
      "metadata": {
        "id": "1bJXxwIJsF0O"
      },
      "execution_count": null,
      "outputs": []
    },
    {
      "cell_type": "code",
      "source": [
        "# Call the funciton.\n",
        "myPrint(\"Hello\")"
      ],
      "metadata": {
        "colab": {
          "base_uri": "https://localhost:8080/"
        },
        "id": "g0ITqy8msiZx",
        "outputId": "d0e5064a-28de-4e47-9e3a-76f9b76bad68"
      },
      "execution_count": null,
      "outputs": [
        {
          "output_type": "stream",
          "name": "stdout",
          "text": [
            "Hello\n"
          ]
        }
      ]
    },
    {
      "cell_type": "code",
      "source": [
        "myPrint(val = \"Hello\")"
      ],
      "metadata": {
        "colab": {
          "base_uri": "https://localhost:8080/"
        },
        "id": "U33jZMShsno2",
        "outputId": "4c102e38-f06d-4eee-ed21-daa4a3db7b6f"
      },
      "execution_count": null,
      "outputs": [
        {
          "output_type": "stream",
          "name": "stdout",
          "text": [
            "Hello\n"
          ]
        }
      ]
    },
    {
      "cell_type": "code",
      "source": [
        "# WAP to print the sum of all the odd numbers between 1 to 100.\n",
        "def oddNumber(val):\n",
        "  if val % 2 != 0:\n",
        "    return 1\n",
        "  else:\n",
        "    return 0"
      ],
      "metadata": {
        "id": "Pd2Y3H6Fs4JT"
      },
      "execution_count": null,
      "outputs": []
    },
    {
      "cell_type": "code",
      "source": [
        "start = 1\n",
        "stop = 10\n",
        "oddsum = 0\n",
        "while start <= stop:\n",
        "  if oddNumber(start) == 1:\n",
        "    oddsum = oddsum + start\n",
        "  start += 1\n",
        "print(\"The sum of odd number between 1 to\", stop, \"is\", oddsum)"
      ],
      "metadata": {
        "colab": {
          "base_uri": "https://localhost:8080/"
        },
        "id": "RhGvmpl8tjeo",
        "outputId": "03617158-b0ff-4085-a600-f77c2d08cb0c"
      },
      "execution_count": null,
      "outputs": [
        {
          "output_type": "stream",
          "name": "stdout",
          "text": [
            "The sum of odd number between 1 to 10 is 25\n"
          ]
        }
      ]
    },
    {
      "cell_type": "code",
      "source": [
        "# for variable in condition range(start, end, increment/decrement(optional))\n",
        "print(*range(1, 50))"
      ],
      "metadata": {
        "colab": {
          "base_uri": "https://localhost:8080/"
        },
        "id": "VBT52jr2ul6g",
        "outputId": "97c7cc63-0c9c-41d8-cf87-5d27e2463734"
      },
      "execution_count": null,
      "outputs": [
        {
          "output_type": "stream",
          "name": "stdout",
          "text": [
            "1 2 3 4 5 6 7 8 9 10 11 12 13 14 15 16 17 18 19 20 21 22 23 24 25 26 27 28 29 30 31 32 33 34 35 36 37 38 39 40 41 42 43 44 45 46 47 48 49\n"
          ]
        }
      ]
    },
    {
      "cell_type": "code",
      "source": [
        "start = 1\n",
        "stop = 10\n",
        "oddsum = 0\n",
        "for i in range(start, stop+1):\n",
        "  if oddNumber(i) == 1:\n",
        "    oddsum = oddsum + i\n",
        "print(\"The sum of odd number between 1 to\", stop, \"is\", oddsum)"
      ],
      "metadata": {
        "colab": {
          "base_uri": "https://localhost:8080/"
        },
        "id": "rlkhg3HpuHV7",
        "outputId": "2b7f121d-2994-47e7-d104-629474ec1615"
      },
      "execution_count": null,
      "outputs": [
        {
          "output_type": "stream",
          "name": "stdout",
          "text": [
            "The sum of odd number between 1 to 10 is 25\n"
          ]
        }
      ]
    },
    {
      "cell_type": "code",
      "source": [
        "# Primitive data type which contains the single value age=20\n",
        "# Non primitive data type is collection values of same data type or different data type.\n",
        "# e.g. [\"A\", \"20\", \"Male\", 50000]\n",
        "# List: Mutable(add/update/delete/read) collection which can have ame data type or different data type of values. It is represented by [].\n",
        "# Tuple: Immutable(READ ONLY) collection which can have ame data type or different data type of values. It is represented by ().\n",
        "# Set: Mutable(add/update/delete/read) collection which can have ame data type or different data type of values. It contains only UNIQUE VALUES. It is represented by {}.\n",
        "# Dictionary: Mutable(add/update/delete/read) collection which can have ame data type or different data type of values.\n",
        "# Dic contains the values in the form key-value pair where the key name are unique. It is represented by {}."
      ],
      "metadata": {
        "id": "JbRqZE_svwHs"
      },
      "execution_count": null,
      "outputs": []
    },
    {
      "cell_type": "code",
      "source": [
        "# List\n",
        "# Empty List.\n",
        "country = []\n",
        "# List with values\n",
        "country = [\"India\", \"Australia\", \"USA\", \"England\"]\n",
        "# List can also have different values\n",
        "employee = [1, \"Test\", 25, \"Male\", 50000, True]\n",
        "print(type(country))\n",
        "print(type(employee))\n",
        "# print values one by one.\n",
        "for c in country:\n",
        "  print(c)\n",
        "print(*employee)\n",
        "\n",
        "# Add new value to list.\n",
        "country.append(\"Newzeland\")\n",
        "print(country)\n",
        "\n",
        "# Insert add the new value at the position you want.\n",
        "country.insert(0, \"France\")\n",
        "print(country)\n",
        "\n",
        "# Update any record\n",
        "employee[3] = \"Female\"\n",
        "print(employee)\n",
        "\n",
        "# Remove \n",
        "employee.remove(\"Female\")\n",
        "print(employee)"
      ],
      "metadata": {
        "colab": {
          "base_uri": "https://localhost:8080/"
        },
        "id": "f_5kLgCqvwAs",
        "outputId": "584d1ca5-0138-40b0-d2fc-ec8a8f2ca707"
      },
      "execution_count": null,
      "outputs": [
        {
          "output_type": "stream",
          "name": "stdout",
          "text": [
            "<class 'list'>\n",
            "<class 'list'>\n",
            "India\n",
            "Australia\n",
            "USA\n",
            "England\n",
            "1 Test 25 Male 50000 True\n",
            "['India', 'Australia', 'USA', 'England', 'Newzeland']\n",
            "['France', 'India', 'Australia', 'USA', 'England', 'Newzeland']\n",
            "[1, 'Test', 25, 'Female', 50000, True]\n",
            "[1, 'Test', 25, 50000, True]\n"
          ]
        }
      ]
    },
    {
      "cell_type": "code",
      "source": [
        "# Tuple\n",
        "country = (\"India\", \"Australia\", \"USA\", \"England\")\n",
        "print(type(country))\n",
        "print(country)\n",
        "for c in country:\n",
        "  print(c)"
      ],
      "metadata": {
        "colab": {
          "base_uri": "https://localhost:8080/"
        },
        "id": "otRBz8AOy1rZ",
        "outputId": "d41fe208-edd5-48b0-d89f-2931e12fa797"
      },
      "execution_count": null,
      "outputs": [
        {
          "output_type": "stream",
          "name": "stdout",
          "text": [
            "<class 'tuple'>\n",
            "('India', 'Australia', 'USA', 'England')\n",
            "India\n",
            "Australia\n",
            "USA\n",
            "England\n"
          ]
        }
      ]
    },
    {
      "cell_type": "code",
      "source": [
        "# Set\n",
        "country = {'France', 'India', 'Australia', 'USA', 'England', 'Newzeland','England'}\n",
        "print(type(country))\n",
        "print(country)\n",
        "for c in country:\n",
        "  print(c)\n",
        "\n",
        "# Append\n",
        "country.add(\"Germany\")\n",
        "print(country)\n",
        "\n",
        "# Remove\n",
        "country.remove(\"England\")\n",
        "print(country)"
      ],
      "metadata": {
        "colab": {
          "base_uri": "https://localhost:8080/"
        },
        "id": "lw6PaZmQz7ye",
        "outputId": "b4fb258a-2c9b-478b-bf63-af07b8ea9b70"
      },
      "execution_count": null,
      "outputs": [
        {
          "output_type": "stream",
          "name": "stdout",
          "text": [
            "<class 'set'>\n",
            "{'France', 'Australia', 'England', 'India', 'USA', 'Newzeland'}\n",
            "France\n",
            "Australia\n",
            "England\n",
            "India\n",
            "USA\n",
            "Newzeland\n",
            "{'France', 'Australia', 'England', 'Germany', 'India', 'USA', 'Newzeland'}\n",
            "{'France', 'Australia', 'Germany', 'India', 'USA', 'Newzeland'}\n"
          ]
        }
      ]
    },
    {
      "cell_type": "code",
      "source": [
        "# Dictionary\n",
        "employee = {\"id\": 15, \"name\": \"test\", \"gender\": \"Male\", \"salary\": 5000.56}\n",
        "print(type(employee))\n",
        "print(employee)\n",
        "\n",
        "# Print all the key name.\n",
        "print(employee.keys())\n",
        "\n",
        "# Print all the value.\n",
        "print(employee.values())\n",
        "\n",
        "# Print the value of the key.\n",
        "print(employee[\"id\"])\n",
        "print(employee[\"salary\"])\n",
        "\n",
        "for k in employee.keys():\n",
        "  print(k, \"=\", employee[k] )"
      ],
      "metadata": {
        "colab": {
          "base_uri": "https://localhost:8080/"
        },
        "id": "w8w-qktw0H_y",
        "outputId": "cb3c4df5-c9a3-4b73-bef9-857444ca0980"
      },
      "execution_count": null,
      "outputs": [
        {
          "output_type": "stream",
          "name": "stdout",
          "text": [
            "<class 'dict'>\n",
            "{'id': 15, 'name': 'test', 'gender': 'Male', 'salary': 5000.56}\n",
            "dict_keys(['id', 'name', 'gender', 'salary'])\n",
            "dict_values([15, 'test', 'Male', 5000.56])\n",
            "15\n",
            "5000.56\n",
            "id = 15\n",
            "name = test\n",
            "gender = Male\n",
            "salary = 5000.56\n"
          ]
        }
      ]
    },
    {
      "cell_type": "code",
      "source": [
        "# Find the factorial of number(数字的阶乘) from 2 to 10 using function\n",
        "def factorial(val):\n",
        "  fac = 1\n",
        "  for i in range(1,val+1):\n",
        "    fac *= i\n",
        "  return fac\n",
        "\n",
        "for j in range(2, 11):\n",
        "  print(factorial(j))\n"
      ],
      "metadata": {
        "colab": {
          "base_uri": "https://localhost:8080/"
        },
        "id": "Sapl2zxi1E2Y",
        "outputId": "48be1d75-19f8-4a31-920f-186807794172"
      },
      "execution_count": null,
      "outputs": [
        {
          "output_type": "stream",
          "name": "stdout",
          "text": [
            "2\n",
            "6\n",
            "24\n",
            "120\n",
            "720\n",
            "5040\n",
            "40320\n",
            "362880\n",
            "3628800\n"
          ]
        }
      ]
    },
    {
      "cell_type": "code",
      "source": [
        "# Print the table from 2 to 10 using function like this:\n",
        "# 2x1= 2, 2x2=4,...\n",
        "def multiplicationTable(num):\n",
        "  for i in range(1, num + 1):\n",
        "    print(\"----------- Mutliplication Table of\", i, \"----------\")\n",
        "    for j in range(1, num + 1):\n",
        "      print(*(i, \"x\", j, \"=\", i*j),\"\\b\") \n",
        "  print(\"-------------------- The End --------------------\")  \n",
        "  return\n",
        "\n",
        "multiplicationTable(10)"
      ],
      "metadata": {
        "id": "37PO6PMl114J",
        "colab": {
          "base_uri": "https://localhost:8080/"
        },
        "outputId": "81b775e0-28f9-42e8-e36a-d503f60c5545"
      },
      "execution_count": null,
      "outputs": [
        {
          "output_type": "stream",
          "name": "stdout",
          "text": [
            "----------- Mutliplication Table of 1 ----------\n",
            "1 x 1 = 1 \b\n",
            "1 x 2 = 2 \b\n",
            "1 x 3 = 3 \b\n",
            "1 x 4 = 4 \b\n",
            "1 x 5 = 5 \b\n",
            "1 x 6 = 6 \b\n",
            "1 x 7 = 7 \b\n",
            "1 x 8 = 8 \b\n",
            "1 x 9 = 9 \b\n",
            "1 x 10 = 10 \b\n",
            "----------- Mutliplication Table of 2 ----------\n",
            "2 x 1 = 2 \b\n",
            "2 x 2 = 4 \b\n",
            "2 x 3 = 6 \b\n",
            "2 x 4 = 8 \b\n",
            "2 x 5 = 10 \b\n",
            "2 x 6 = 12 \b\n",
            "2 x 7 = 14 \b\n",
            "2 x 8 = 16 \b\n",
            "2 x 9 = 18 \b\n",
            "2 x 10 = 20 \b\n",
            "----------- Mutliplication Table of 3 ----------\n",
            "3 x 1 = 3 \b\n",
            "3 x 2 = 6 \b\n",
            "3 x 3 = 9 \b\n",
            "3 x 4 = 12 \b\n",
            "3 x 5 = 15 \b\n",
            "3 x 6 = 18 \b\n",
            "3 x 7 = 21 \b\n",
            "3 x 8 = 24 \b\n",
            "3 x 9 = 27 \b\n",
            "3 x 10 = 30 \b\n",
            "----------- Mutliplication Table of 4 ----------\n",
            "4 x 1 = 4 \b\n",
            "4 x 2 = 8 \b\n",
            "4 x 3 = 12 \b\n",
            "4 x 4 = 16 \b\n",
            "4 x 5 = 20 \b\n",
            "4 x 6 = 24 \b\n",
            "4 x 7 = 28 \b\n",
            "4 x 8 = 32 \b\n",
            "4 x 9 = 36 \b\n",
            "4 x 10 = 40 \b\n",
            "----------- Mutliplication Table of 5 ----------\n",
            "5 x 1 = 5 \b\n",
            "5 x 2 = 10 \b\n",
            "5 x 3 = 15 \b\n",
            "5 x 4 = 20 \b\n",
            "5 x 5 = 25 \b\n",
            "5 x 6 = 30 \b\n",
            "5 x 7 = 35 \b\n",
            "5 x 8 = 40 \b\n",
            "5 x 9 = 45 \b\n",
            "5 x 10 = 50 \b\n",
            "----------- Mutliplication Table of 6 ----------\n",
            "6 x 1 = 6 \b\n",
            "6 x 2 = 12 \b\n",
            "6 x 3 = 18 \b\n",
            "6 x 4 = 24 \b\n",
            "6 x 5 = 30 \b\n",
            "6 x 6 = 36 \b\n",
            "6 x 7 = 42 \b\n",
            "6 x 8 = 48 \b\n",
            "6 x 9 = 54 \b\n",
            "6 x 10 = 60 \b\n",
            "----------- Mutliplication Table of 7 ----------\n",
            "7 x 1 = 7 \b\n",
            "7 x 2 = 14 \b\n",
            "7 x 3 = 21 \b\n",
            "7 x 4 = 28 \b\n",
            "7 x 5 = 35 \b\n",
            "7 x 6 = 42 \b\n",
            "7 x 7 = 49 \b\n",
            "7 x 8 = 56 \b\n",
            "7 x 9 = 63 \b\n",
            "7 x 10 = 70 \b\n",
            "----------- Mutliplication Table of 8 ----------\n",
            "8 x 1 = 8 \b\n",
            "8 x 2 = 16 \b\n",
            "8 x 3 = 24 \b\n",
            "8 x 4 = 32 \b\n",
            "8 x 5 = 40 \b\n",
            "8 x 6 = 48 \b\n",
            "8 x 7 = 56 \b\n",
            "8 x 8 = 64 \b\n",
            "8 x 9 = 72 \b\n",
            "8 x 10 = 80 \b\n",
            "----------- Mutliplication Table of 9 ----------\n",
            "9 x 1 = 9 \b\n",
            "9 x 2 = 18 \b\n",
            "9 x 3 = 27 \b\n",
            "9 x 4 = 36 \b\n",
            "9 x 5 = 45 \b\n",
            "9 x 6 = 54 \b\n",
            "9 x 7 = 63 \b\n",
            "9 x 8 = 72 \b\n",
            "9 x 9 = 81 \b\n",
            "9 x 10 = 90 \b\n",
            "----------- Mutliplication Table of 10 ----------\n",
            "10 x 1 = 10 \b\n",
            "10 x 2 = 20 \b\n",
            "10 x 3 = 30 \b\n",
            "10 x 4 = 40 \b\n",
            "10 x 5 = 50 \b\n",
            "10 x 6 = 60 \b\n",
            "10 x 7 = 70 \b\n",
            "10 x 8 = 80 \b\n",
            "10 x 9 = 90 \b\n",
            "10 x 10 = 100 \b\n",
            "-------------------- The End --------------------\n"
          ]
        }
      ]
    },
    {
      "cell_type": "code",
      "source": [],
      "metadata": {
        "id": "Z3e8UQ4j6r2-"
      },
      "execution_count": null,
      "outputs": []
    }
  ]
}