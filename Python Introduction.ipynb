{
  "nbformat": 4,
  "nbformat_minor": 0,
  "metadata": {
    "colab": {
      "provenance": []
    },
    "kernelspec": {
      "name": "python3",
      "display_name": "Python 3"
    },
    "language_info": {
      "name": "python"
    }
  },
  "cells": [
    {
      "cell_type": "code",
      "execution_count": 2,
      "metadata": {
        "colab": {
          "base_uri": "https://localhost:8080/"
        },
        "id": "QPjFikHIYrLv",
        "outputId": "acc72c05-d4f2-46a8-e645-5c948d94e1f6"
      },
      "outputs": [
        {
          "output_type": "stream",
          "name": "stdout",
          "text": [
            "Welcome to Python.\n",
            "Welcome to Python.\n"
          ]
        }
      ],
      "source": [
        "# Write a programe to print \"Welcome to Python\".\n",
        "print(\"Welcome to Python.\")\n",
        "print('Welcome to Python.')"
      ]
    },
    {
      "cell_type": "code",
      "source": [
        "# WAP to get the sum of 2 numbers.\n",
        "# Mathmatical operators + - * / //(return int or value without decimal) %(moduluas return the remaider) **(exponent)\n",
        "num = 10 # variable name should starts with character allows only one special character i.e. _(under score)\n",
        "num_1 = 20.20 # dynamic varible\n",
        "name = \"python\" # anything we write within \"\" or '' will be str(string)\n",
        "result = True # boolean\n",
        "# check data type \n",
        "print(type(num))\n",
        "print(type(num_1))\n",
        "print(type(name))\n",
        "print(type(result))"
      ],
      "metadata": {
        "colab": {
          "base_uri": "https://localhost:8080/"
        },
        "id": "tB3RawoJZbHZ",
        "outputId": "982e7378-7a56-4483-fa08-eef8f6668652"
      },
      "execution_count": 5,
      "outputs": [
        {
          "output_type": "stream",
          "name": "stdout",
          "text": [
            "<class 'int'>\n",
            "<class 'float'>\n",
            "<class 'str'>\n",
            "<class 'bool'>\n"
          ]
        }
      ]
    },
    {
      "cell_type": "code",
      "source": [
        "num = 20\n",
        "num1 = 30\n",
        "result = num + num1\n",
        "print(result)\n",
        "print(\"The sum of two number is\",result)\n",
        "print(num, \"+\", num1, \"=\", result)"
      ],
      "metadata": {
        "colab": {
          "base_uri": "https://localhost:8080/"
        },
        "id": "wNno08glbhhY",
        "outputId": "787ea9dc-e185-42f3-9cf8-f72d7dce05a9"
      },
      "execution_count": 8,
      "outputs": [
        {
          "output_type": "stream",
          "name": "stdout",
          "text": [
            "50\n",
            "The sum of two number is 50\n",
            "20 + 30 = 50\n"
          ]
        }
      ]
    },
    {
      "cell_type": "code",
      "source": [
        "print(3+2)\n",
        "print(3-2)\n",
        "print(3*2)\n",
        "print(3/2)\n",
        "print(3//2) # Returns the whole number.\n",
        "print(3%2) # Returns the remaider.\n",
        "print(3**2) # Exponent 3 will be multiplied 2 times. x to to power y."
      ],
      "metadata": {
        "colab": {
          "base_uri": "https://localhost:8080/"
        },
        "id": "9SA0hvCFcJs-",
        "outputId": "e31421ca-bd4a-4d12-ae80-66d3db0d32e4"
      },
      "execution_count": 9,
      "outputs": [
        {
          "output_type": "stream",
          "name": "stdout",
          "text": [
            "5\n",
            "1\n",
            "6\n",
            "1.5\n",
            "1\n",
            "1\n",
            "9\n"
          ]
        }
      ]
    },
    {
      "cell_type": "code",
      "source": [
        "# Condition or rule, we can use if, elif, else.\n",
        "# if <condition>:\n",
        "# tab or 5 space i.e.(indent) <statement>\n",
        "# else: (optional)\n",
        "# tab or 5 space i.e.(indent) <statement>"
      ],
      "metadata": {
        "id": "iKMQ-Te4cv43"
      },
      "execution_count": null,
      "outputs": []
    },
    {
      "cell_type": "code",
      "source": [
        "# WAP to take age is greater than equal to 18 eligible to vote.\n",
        "# age = int(input(\"How old are you?\"))\n",
        "age = 59\n",
        "if age >= 60:\n",
        "  print(\"Eligible to vote Online!!\")\n",
        "elif age >= 18:\n",
        "  print(\"Eligible to vote!!\")\n",
        "else :\n",
        "  print(\"Grow Up!!\")"
      ],
      "metadata": {
        "colab": {
          "base_uri": "https://localhost:8080/"
        },
        "id": "E-NlWJsWdb5h",
        "outputId": "08a2d4df-2678-41aa-efde-e17cf61e8d58"
      },
      "execution_count": 22,
      "outputs": [
        {
          "output_type": "stream",
          "name": "stdout",
          "text": [
            "Eligible to vote!!\n"
          ]
        }
      ]
    },
    {
      "cell_type": "code",
      "source": [
        "# Input from the user or keyboard.\n",
        "# input(<message>)-Always return str or string.\n",
        "age = int(input(\"How old are you?\"))\n",
        "print(type(age))\n",
        "if age >= 60:\n",
        "  print(\"Eligible to vote Online!!\")\n",
        "elif age >= 18:\n",
        "  print(\"Eligible to vote!!\")\n",
        "else :\n",
        "  print(\"Grow Up!!\")\n",
        "\n"
      ],
      "metadata": {
        "colab": {
          "base_uri": "https://localhost:8080/"
        },
        "id": "Qrpt2OBEe15M",
        "outputId": "bc3aff65-7664-436b-d996-2f5da1afc206"
      },
      "execution_count": 24,
      "outputs": [
        {
          "output_type": "stream",
          "name": "stdout",
          "text": [
            "How old are you?34\n",
            "<class 'int'>\n",
            "Eligible to vote!!\n"
          ]
        }
      ]
    },
    {
      "cell_type": "code",
      "source": [
        "num1 = int(input(\"Enter the first number: \"))\n",
        "num2 = int(input(\"Enter the second number: \"))\n",
        "print('---------------------Menu--------------------')\n",
        "print(\"1. Additon\\n 2. Minus\\n 3. Multiply\\n 4. Divide\\n 5. Modulus\")\n",
        "ch = int(input(\"Enter your choice 1 to 5: \"))\n",
        "\n",
        "if ch == 1:\n",
        "  result = num1 + num2\n",
        "  op = '+'\n",
        "elif ch == 2:\n",
        "  result = num1 - num2\n",
        "  op = '-'\n",
        "elif ch == 3:\n",
        "  result = num1 * num2\n",
        "  op = '*'\n",
        "elif ch == 4:\n",
        "  result = num1 / num2\n",
        "  op = '/'\n",
        "elif ch == 5:\n",
        "  result = num1 % num2\n",
        "  op = '%'\n",
        "else: \n",
        "  result = \"Invalid Choice\"\n",
        "print(num1,op,num2,\"=\", result)\n"
      ],
      "metadata": {
        "colab": {
          "base_uri": "https://localhost:8080/"
        },
        "id": "JmdHc_LPf9GV",
        "outputId": "4eca4c60-79ef-4c8a-910d-f0a777b08e8d"
      },
      "execution_count": 30,
      "outputs": [
        {
          "output_type": "stream",
          "name": "stdout",
          "text": [
            "Enter the first number: 34\n",
            "Enter the second number: 5\n",
            "---------------------Menu--------------------\n",
            "1. Additon\n",
            " 2. Minus\n",
            " 3. Multiply\n",
            " 4. Divide\n",
            " 5. Modulus\n",
            "Enter your choice 1 to 5: 3\n",
            "34 * 5 = 170\n"
          ]
        }
      ]
    },
    {
      "cell_type": "code",
      "source": [
        "# WAP to input the number and check the number is odd or even.\n",
        "num = int(input(\"Enter a number:\"))\n",
        "if num % 2 == 1:\n",
        "  print(num, \"is an odd number.\")\n",
        "elif num % 2 == 0:\n",
        "  print(num, \"is an even number.\")\n",
        "else:\n",
        "  print(\"This is not a number.\")"
      ],
      "metadata": {
        "colab": {
          "base_uri": "https://localhost:8080/"
        },
        "id": "mXsnQTzRfeER",
        "outputId": "5e6a068e-b83d-4490-de37-4e6becfccb71"
      },
      "execution_count": 37,
      "outputs": [
        {
          "output_type": "stream",
          "name": "stdout",
          "text": [
            "Enter a number:35\n",
            "35 is an odd number.\n"
          ]
        }
      ]
    },
    {
      "cell_type": "code",
      "source": [
        "# WAP to input the number and check whether the number is prime number.\n",
        "num = int(input(\"Enter a number:\"))\n",
        "if num <= 1:\n",
        "  print(num, \"is not a prime number.\")\n",
        "elif num in [2, 3, 5, 7] or num % 2 == 0 or num % 3 == 0 or num % 5 == 0 or num % 7 == 0:\n",
        "  print(num, \"is not a prime number.\")\n",
        "else: \n",
        "  print(num, \"is a prime number.\")"
      ],
      "metadata": {
        "colab": {
          "base_uri": "https://localhost:8080/"
        },
        "id": "XdGUNPlkh3ps",
        "outputId": "205912a3-cabf-476b-e07e-f91359f9e693"
      },
      "execution_count": 14,
      "outputs": [
        {
          "output_type": "stream",
          "name": "stdout",
          "text": [
            "Enter a number:11\n",
            "11 is a prime number.\n"
          ]
        }
      ]
    },
    {
      "cell_type": "code",
      "source": [
        "# WAP to check prime number with its factors.\n",
        "num = int(input(\"Enter a number:\")) \n",
        "if num > 1 :\n",
        "  fac = 1 # A factor that is the number itself.\n",
        "  for i in range(1, num): # Divsors from 1 to num-1.\n",
        "    if num % i == 0:\n",
        "      fac += 1\n",
        "  if fac > 2 : # The number has more than two factors(including 1 and itself).\n",
        "    print(num, \"is not a prime number.\")\n",
        "  else: \n",
        "    print(num, \"is a prime number.\")\n",
        "else: # Numbers that <= 1 are excluded.\n",
        "  print(num, \"is not a prime number.\")\n"
      ],
      "metadata": {
        "colab": {
          "base_uri": "https://localhost:8080/"
        },
        "id": "GoViuFMa4b6q",
        "outputId": "fc889792-b1e1-4bf2-ea70-02cb2b372fb6"
      },
      "execution_count": 10,
      "outputs": [
        {
          "output_type": "stream",
          "name": "stdout",
          "text": [
            "Enter a number:68\n",
            "68 is not a prime number.\n"
          ]
        }
      ]
    }
  ]
}