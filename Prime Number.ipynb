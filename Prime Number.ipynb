{
  "cells": [
    {
      "attachments": {},
      "cell_type": "markdown",
      "metadata": {},
      "source": [
        "![how-to-find-prime-numbers-from-1-to-100](how-to-find-prime-numbers-from-1-to-100.png)"
      ]
    },
    {
      "cell_type": "code",
      "execution_count": null,
      "metadata": {
        "colab": {
          "base_uri": "https://localhost:8080/"
        },
        "id": "XdGUNPlkh3ps",
        "outputId": "fdac2e38-451c-45a6-8c62-ab344e20e0da"
      },
      "outputs": [
        {
          "name": "stdout",
          "output_type": "stream",
          "text": [
            "Enter a number:101\n",
            "101 is a prime number.\n"
          ]
        }
      ],
      "source": [
        "# WAP to check prime number by denying its factors. -- Code Test.\n",
        "num = int(input(\"Enter a number:\"))\n",
        "if num <= 1:\n",
        "  print(num, \"is not a prime number.\")\n",
        "elif num in [2, 3, 5, 7] or num % 2 == 0 or num % 3 == 0 or num % 5 == 0 or num % 7 == 0:\n",
        "  print(num, \"is not a prime number.\")\n",
        "else: \n",
        "  print(num, \"is a prime number.\")"
      ]
    },
    {
      "cell_type": "code",
      "execution_count": null,
      "metadata": {
        "colab": {
          "base_uri": "https://localhost:8080/"
        },
        "id": "GoViuFMa4b6q",
        "outputId": "d45fcf76-dc15-4b51-83d1-908597f6c598"
      },
      "outputs": [
        {
          "name": "stdout",
          "output_type": "stream",
          "text": [
            "Enter a number:36\n",
            "36 is not a prime number.\n"
          ]
        }
      ],
      "source": [
        "# WAP to check prime number by counting its factors. -- Code Test.\n",
        "num = int(input(\"Enter a number:\")) \n",
        "if num > 1 :\n",
        "  fac = 1 # A factor that is the number itself.\n",
        "  for i in range(1, num): # Divsors from 1 to num-1.\n",
        "    if num % i == 0:\n",
        "      fac += 1\n",
        "  if fac > 2 : # The number has more than two factors(including 1 and itself).\n",
        "    print(num, \"is not a prime number.\")\n",
        "  else: \n",
        "    print(num, \"is a prime number.\")\n",
        "else: # Numbers that <= 1 are excluded.\n",
        "  print(num, \"is not a prime number.\")\n"
      ]
    },
    {
      "cell_type": "code",
      "execution_count": 1,
      "metadata": {
        "colab": {
          "base_uri": "https://localhost:8080/"
        },
        "id": "bsqkC7hQlEIT",
        "outputId": "e8ab4d25-4832-47fd-bce4-af88bf974c73"
      },
      "outputs": [
        {
          "name": "stdout",
          "output_type": "stream",
          "text": [
            "Enter a number:101\n",
            "101 is a prime number.\n",
            "It took  0.00033473968505859375 seconds to run this code.\n"
          ]
        }
      ],
      "source": [
        "# WAP to check run time of prime number program. -- Run Time Test.\n",
        "import time\n",
        "num = int(input(\"Enter a number:\")) \n",
        "start = time.time()\n",
        "\n",
        "if num > 1 :\n",
        "  fac = 1 # A factor that is the number itself.\n",
        "  for i in range(1, num): # Divsors from 1 to num-1.\n",
        "    if num % i == 0:\n",
        "      fac += 1\n",
        "  if fac > 2 : # The number has more than two factors(including 1 and itself).\n",
        "    print(num, \"is not a prime number.\")\n",
        "  else: \n",
        "    print(num, \"is a prime number.\")\n",
        "else: # Numbers that <= 1 are excluded.\n",
        "  print(num, \"is not a prime number.\")\n",
        "\n",
        "end = time.time()\n",
        "run_time = end - start\n",
        "print(\"It took \", run_time, \"seconds to run this code.\")"
      ]
    },
    {
      "cell_type": "code",
      "execution_count": 5,
      "metadata": {
        "colab": {
          "base_uri": "https://localhost:8080/"
        },
        "id": "fWidfIrQmfSm",
        "outputId": "ff7219bb-1d3f-4749-bbe0-f78e27c92642"
      },
      "outputs": [
        {
          "name": "stdout",
          "output_type": "stream",
          "text": [
            "Enter a number 1:101\n",
            "Enter a number 2:467\n",
            "Enter a number 3:985\n",
            "101 is a prime number.\n",
            "467 is a prime number.\n",
            "985 is not a prime number.\n",
            "It took  0.0025157928466796875 seconds to run this code.\n"
          ]
        }
      ],
      "source": [
        "# WAP to check run time of prime number function program.\n",
        "import time\n",
        "num1 = int(input(\"Enter a number 1:\")) \n",
        "num2 = int(input(\"Enter a number 2:\")) \n",
        "num3 = int(input(\"Enter a number 3:\")) \n",
        "start = time.time()\n",
        "\n",
        "def isPrime(num):\n",
        "  if num > 1 :\n",
        "    fac = 1 # A factor that is the number itself.\n",
        "    for i in range(1, num): # Divsors from 1 to num-1.\n",
        "      if num % i == 0:\n",
        "        fac += 1\n",
        "    if fac > 2 : # The number has more than two factors(including 1 and itself).\n",
        "      print(num, \"is not a prime number.\")\n",
        "    else: \n",
        "      print(num, \"is a prime number.\")\n",
        "  else: # Numbers that <= 1 are excluded.\n",
        "    print(num, \"is not a prime number.\")\n",
        "  return \n",
        "\n",
        "isPrime(num1)\n",
        "isPrime(num2)\n",
        "isPrime(num3)\n",
        "\n",
        "end = time.time()\n",
        "run_time = end - start\n",
        "print(\"It took \", run_time, \"seconds to run this code.\")"
      ]
    },
    {
      "cell_type": "code",
      "execution_count": 6,
      "metadata": {
        "colab": {
          "base_uri": "https://localhost:8080/"
        },
        "id": "VctHzSGfoEPH",
        "outputId": "0b742a2d-d624-4841-f049-d554e7889d17"
      },
      "outputs": [
        {
          "name": "stdout",
          "output_type": "stream",
          "text": [
            "Enter a number 1:101\n",
            "Enter a number 2:467\n",
            "Enter a number 3:985\n",
            "101 is a prime number.\n",
            "467 is a prime number.\n",
            "985 is not a prime number.\n",
            "It took  0.0026574134826660156 seconds to run this code.\n"
          ]
        }
      ],
      "source": [
        "# WAP to check run time of prime number program by counting its factors.\n",
        "num1 = int(input(\"Enter a number 1:\")) \n",
        "num2 = int(input(\"Enter a number 2:\")) \n",
        "num3 = int(input(\"Enter a number 3:\")) \n",
        "start = time.time()\n",
        "\n",
        "if num1 > 1 :\n",
        "  fac = 1 # A factor that is the number itself.\n",
        "  for i in range(1, num1): # Divsors from 1 to num-1.\n",
        "    if num1 % i == 0:\n",
        "      fac += 1\n",
        "  if fac > 2 : # The number has more than two factors(including 1 and itself).\n",
        "    print(num1, \"is not a prime number.\")\n",
        "  else: \n",
        "    print(num1, \"is a prime number.\")\n",
        "else: # Numbers that <= 1 are excluded.\n",
        "  print(num1, \"is not a prime number.\")\n",
        "\n",
        "if num2 > 1 :\n",
        "  fac = 1 # A factor that is the number itself.\n",
        "  for i in range(1, num2): # Divsors from 1 to num-1.\n",
        "    if num2 % i == 0:\n",
        "      fac += 1\n",
        "  if fac > 2 : # The number has more than two factors(including 1 and itself).\n",
        "    print(num2, \"is not a prime number.\")\n",
        "  else: \n",
        "    print(num2, \"is a prime number.\")\n",
        "else: # Numbers that <= 1 are excluded.\n",
        "  print(num2, \"is not a prime number.\")\n",
        "\n",
        "if num3 > 1 :\n",
        "  fac = 1 # A factor that is the number itself.\n",
        "  for i in range(1, num3): # Divsors from 1 to num-1.\n",
        "    if num3 % i == 0:\n",
        "      fac += 1\n",
        "  if fac > 2 : # The number has more than two factors(including 1 and itself).\n",
        "    print(num3, \"is not a prime number.\")\n",
        "  else: \n",
        "    print(num3, \"is a prime number.\")\n",
        "else: # Numbers that <= 1 are excluded.\n",
        "  print(num3, \"is not a prime number.\")\n",
        "\n",
        "end = time.time()\n",
        "run_time = end - start\n",
        "print(\"It took \", run_time, \"seconds to run this code.\")"
      ]
    },
    {
      "cell_type": "code",
      "execution_count": 7,
      "metadata": {
        "colab": {
          "base_uri": "https://localhost:8080/"
        },
        "id": "gPuoeO5wo-ZN",
        "outputId": "4bce01c4-f353-4c63-fd2c-a96269122a8d"
      },
      "outputs": [
        {
          "name": "stdout",
          "output_type": "stream",
          "text": [
            "Enter a number:101\n",
            "101 is a prime number.\n",
            "It took  0.0011415481567382812 seconds to run this code.\n"
          ]
        }
      ],
      "source": [
        "# WAP to check the run time of prime number programe. -- Run Time Test.\n",
        "num = int(input(\"Enter a number:\"))\n",
        "start = time.time()\n",
        "\n",
        "if num <= 1:\n",
        "  print(num, \"is not a prime number.\")\n",
        "elif num in [2, 3, 5, 7] or num % 2 == 0 or num % 3 == 0 or num % 5 == 0 or num % 7 == 0:\n",
        "  print(num, \"is not a prime number.\")\n",
        "else: \n",
        "  print(num, \"is a prime number.\")\n",
        "\n",
        "end = time.time()\n",
        "run_time = end - start\n",
        "print(\"It took \", run_time, \"seconds to run this code.\")"
      ]
    },
    {
      "cell_type": "code",
      "execution_count": 8,
      "metadata": {
        "colab": {
          "base_uri": "https://localhost:8080/"
        },
        "id": "4Xxlr2WGo-Pp",
        "outputId": "c3ad45a9-b503-41f4-a283-a23e05857ab1"
      },
      "outputs": [
        {
          "name": "stdout",
          "output_type": "stream",
          "text": [
            "Enter a number 1:101\n",
            "Enter a number 2:467\n",
            "Enter a number 3:985\n",
            "101 is a prime number.\n",
            "467 is a prime number.\n",
            "985 is not a prime number.\n",
            "It took  0.0009999275207519531 seconds to run this code.\n"
          ]
        }
      ],
      "source": [
        "# WAP to check run time of prime number function program.\n",
        "import time\n",
        "num1 = int(input(\"Enter a number 1:\")) \n",
        "num2 = int(input(\"Enter a number 2:\")) \n",
        "num3 = int(input(\"Enter a number 3:\")) \n",
        "start = time.time()\n",
        "\n",
        "def isPrime(num):\n",
        "  if num <= 1:\n",
        "    print(num, \"is not a prime number.\")\n",
        "  elif num in [2, 3, 5, 7] or num % 2 == 0 or num % 3 == 0 or num % 5 == 0 or num % 7 == 0:\n",
        "    print(num, \"is not a prime number.\")\n",
        "  else: \n",
        "    print(num, \"is a prime number.\")\n",
        "  return\n",
        "\n",
        "isPrime(num1)\n",
        "isPrime(num2)\n",
        "isPrime(num3)\n",
        "\n",
        "end = time.time()\n",
        "run_time = end - start\n",
        "print(\"It took \", run_time, \"seconds to run this code.\")"
      ]
    },
    {
      "cell_type": "code",
      "execution_count": 9,
      "metadata": {
        "colab": {
          "base_uri": "https://localhost:8080/"
        },
        "id": "r_PSKoD2qBGj",
        "outputId": "e7f6c75e-bc68-4ead-cf5c-beb93b8fdc9e"
      },
      "outputs": [
        {
          "name": "stdout",
          "output_type": "stream",
          "text": [
            "Enter a number 1:101\n",
            "Enter a number 2:467\n",
            "Enter a number 3:985\n",
            "101 is a prime number.\n",
            "467 is a prime number.\n",
            "985 is not a prime number.\n",
            "It took  0.00212860107421875 seconds to run this code.\n"
          ]
        }
      ],
      "source": [
        "# WAP to check run time of prime number function program.\n",
        "import time\n",
        "num1 = int(input(\"Enter a number 1:\")) \n",
        "num2 = int(input(\"Enter a number 2:\")) \n",
        "num3 = int(input(\"Enter a number 3:\")) \n",
        "start = time.time()\n",
        "\n",
        "if num1 <= 1:\n",
        "  print(num1, \"is not a prime number.\")\n",
        "elif num in [2, 3, 5, 7] or num1 % 2 == 0 or num1 % 3 == 0 or num1 % 5 == 0 or num1 % 7 == 0:\n",
        "  print(num1, \"is not a prime number.\")\n",
        "else: \n",
        "  print(num1, \"is a prime number.\")\n",
        "\n",
        "if num2 <= 1:\n",
        "  print(num2, \"is not a prime number.\")\n",
        "elif num2 in [2, 3, 5, 7] or num2 % 2 == 0 or num2 % 3 == 0 or num2 % 5 == 0 or num2 % 7 == 0:\n",
        "  print(num2, \"is not a prime number.\")\n",
        "else: \n",
        "  print(num2, \"is a prime number.\")\n",
        "\n",
        "if num3 <= 1:\n",
        "  print(num3, \"is not a prime number.\")\n",
        "elif num in [2, 3, 5, 7] or num3 % 2 == 0 or num3 % 3 == 0 or num3 % 5 == 0 or num3 % 7 == 0:\n",
        "  print(num3, \"is not a prime number.\")\n",
        "else: \n",
        "  print(num3, \"is a prime number.\")\n",
        "\n",
        "end = time.time()\n",
        "run_time = end - start\n",
        "print(\"It took \", run_time, \"seconds to run this code.\")"
      ]
    }
  ],
  "metadata": {
    "colab": {
      "provenance": []
    },
    "kernelspec": {
      "display_name": "Python 3",
      "name": "python3"
    },
    "language_info": {
      "name": "python",
      "version": "3.9.13"
    }
  },
  "nbformat": 4,
  "nbformat_minor": 0
}
