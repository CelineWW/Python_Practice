{
  "cells": [
    {
      "cell_type": "code",
      "execution_count": null,
      "metadata": {
        "colab": {
          "base_uri": "https://localhost:8080/"
        },
        "id": "Lv-b8aPzpMaU",
        "outputId": "f3724a04-84b7-44b6-cb6a-ae211dd56bae"
      },
      "outputs": [
        {
          "name": "stdout",
          "output_type": "stream",
          "text": [
            "1 :Python !!!\n",
            "2 :Python !!!\n",
            "3 :Python !!!\n",
            "4 :Python !!!\n",
            "5 :Python !!!\n",
            "6 :Python !!!\n",
            "7 :Python !!!\n",
            "8 :Python !!!\n",
            "9 :Python !!!\n",
            "10 :Python !!!\n",
            "11 :Python !!!\n",
            "12 :Python !!!\n",
            "13 :Python !!!\n",
            "14 :Python !!!\n",
            "15 :Python !!!\n",
            "16 :Python !!!\n",
            "17 :Python !!!\n",
            "18 :Python !!!\n",
            "19 :Python !!!\n",
            "20 :Python !!!\n"
          ]
        }
      ],
      "source": [
        "# Loop - to continue the work till the condition satisfied.\n",
        "# While loop and For loop\n",
        "# While loop initialization conditon increment or decrement\n",
        "# WAP to print your name for 20 times.\n",
        "start = 1 \n",
        "stop = 20\n",
        "while start <= stop:\n",
        "  print (start, \":Python !!!\")\n",
        "  # increment the value of start by 1\n",
        "  start = start + 1"
      ]
    },
    {
      "cell_type": "code",
      "execution_count": null,
      "metadata": {
        "colab": {
          "base_uri": "https://localhost:8080/"
        },
        "id": "gnLC9LeqrbCc",
        "outputId": "0ec182d9-2ccc-455f-a1fc-a509ab60f03b"
      },
      "outputs": [
        {
          "name": "stdout",
          "output_type": "stream",
          "text": [
            "20 :Python !!!\n",
            "19 :Python !!!\n",
            "18 :Python !!!\n",
            "17 :Python !!!\n",
            "16 :Python !!!\n",
            "15 :Python !!!\n",
            "14 :Python !!!\n",
            "13 :Python !!!\n",
            "12 :Python !!!\n",
            "11 :Python !!!\n",
            "10 :Python !!!\n",
            "9 :Python !!!\n",
            "8 :Python !!!\n",
            "7 :Python !!!\n",
            "6 :Python !!!\n",
            "5 :Python !!!\n",
            "4 :Python !!!\n",
            "3 :Python !!!\n",
            "2 :Python !!!\n",
            "1 :Python !!!\n"
          ]
        }
      ],
      "source": [
        "# WAP to print your name for 20 times.\n",
        "start = 1 \n",
        "stop = 20\n",
        "while stop >= start:\n",
        "  print (stop, \":Python !!!\")\n",
        "  # decrement the value of stop by 1\n",
        "  stop = stop - 1"
      ]
    },
    {
      "cell_type": "code",
      "execution_count": null,
      "metadata": {
        "id": "1bJXxwIJsF0O"
      },
      "outputs": [],
      "source": [
        "# Function: write once use or call as many time as you want.\n",
        "# def <function name> (parameter, parameter, ...): it may return value or may not return value.\n",
        "def myPrint(val):\n",
        "  print(val)"
      ]
    },
    {
      "cell_type": "code",
      "execution_count": null,
      "metadata": {
        "colab": {
          "base_uri": "https://localhost:8080/"
        },
        "id": "g0ITqy8msiZx",
        "outputId": "d0e5064a-28de-4e47-9e3a-76f9b76bad68"
      },
      "outputs": [
        {
          "name": "stdout",
          "output_type": "stream",
          "text": [
            "Hello\n"
          ]
        }
      ],
      "source": [
        "# Call the funciton.\n",
        "myPrint(\"Hello\")"
      ]
    },
    {
      "cell_type": "code",
      "execution_count": null,
      "metadata": {
        "colab": {
          "base_uri": "https://localhost:8080/"
        },
        "id": "U33jZMShsno2",
        "outputId": "4c102e38-f06d-4eee-ed21-daa4a3db7b6f"
      },
      "outputs": [
        {
          "name": "stdout",
          "output_type": "stream",
          "text": [
            "Hello\n"
          ]
        }
      ],
      "source": [
        "myPrint(val = \"Hello\")"
      ]
    },
    {
      "cell_type": "code",
      "execution_count": null,
      "metadata": {
        "id": "Pd2Y3H6Fs4JT"
      },
      "outputs": [],
      "source": [
        "# WAP to print the sum of all the odd numbers between 1 to 100.\n",
        "def oddNumber(val):\n",
        "  if val % 2 != 0:\n",
        "    return 1\n",
        "  else:\n",
        "    return 0"
      ]
    },
    {
      "cell_type": "code",
      "execution_count": null,
      "metadata": {
        "colab": {
          "base_uri": "https://localhost:8080/"
        },
        "id": "RhGvmpl8tjeo",
        "outputId": "03617158-b0ff-4085-a600-f77c2d08cb0c"
      },
      "outputs": [
        {
          "name": "stdout",
          "output_type": "stream",
          "text": [
            "The sum of odd number between 1 to 10 is 25\n"
          ]
        }
      ],
      "source": [
        "start = 1\n",
        "stop = 10\n",
        "oddsum = 0\n",
        "while start <= stop:\n",
        "  if oddNumber(start) == 1:\n",
        "    oddsum = oddsum + start\n",
        "  start += 1\n",
        "print(\"The sum of odd number between 1 to\", stop, \"is\", oddsum)"
      ]
    },
    {
      "cell_type": "code",
      "execution_count": null,
      "metadata": {
        "colab": {
          "base_uri": "https://localhost:8080/"
        },
        "id": "VBT52jr2ul6g",
        "outputId": "97c7cc63-0c9c-41d8-cf87-5d27e2463734"
      },
      "outputs": [
        {
          "name": "stdout",
          "output_type": "stream",
          "text": [
            "1 2 3 4 5 6 7 8 9 10 11 12 13 14 15 16 17 18 19 20 21 22 23 24 25 26 27 28 29 30 31 32 33 34 35 36 37 38 39 40 41 42 43 44 45 46 47 48 49\n"
          ]
        }
      ],
      "source": [
        "# for variable in condition range(start, end, increment/decrement(optional))\n",
        "print(*range(1, 50))"
      ]
    },
    {
      "cell_type": "code",
      "execution_count": null,
      "metadata": {
        "colab": {
          "base_uri": "https://localhost:8080/"
        },
        "id": "rlkhg3HpuHV7",
        "outputId": "2b7f121d-2994-47e7-d104-629474ec1615"
      },
      "outputs": [
        {
          "name": "stdout",
          "output_type": "stream",
          "text": [
            "The sum of odd number between 1 to 10 is 25\n"
          ]
        }
      ],
      "source": [
        "start = 1\n",
        "stop = 10\n",
        "oddsum = 0\n",
        "for i in range(start, stop+1):\n",
        "  if oddNumber(i) == 1:\n",
        "    oddsum = oddsum + i\n",
        "print(\"The sum of odd number between 1 to\", stop, \"is\", oddsum)"
      ]
    },
    {
      "cell_type": "code",
      "execution_count": null,
      "metadata": {
        "id": "JbRqZE_svwHs"
      },
      "outputs": [],
      "source": [
        "# Primitive data type which contains the single value age=20\n",
        "# Non primitive data type is collection values of same data type or different data type.\n",
        "# e.g. [\"A\", \"20\", \"Male\", 50000]\n",
        "# List: Mutable(add/update/delete/read) collection which can have ame data type or different data type of values. It is represented by [].\n",
        "# Tuple: Immutable(READ ONLY) collection which can have ame data type or different data type of values. It is represented by ().\n",
        "# Set: Mutable(add/update/delete/read) collection which can have ame data type or different data type of values. It contains only UNIQUE VALUES. It is represented by {}.\n",
        "# Dictionary: Mutable(add/update/delete/read) collection which can have ame data type or different data type of values.\n",
        "# Dic contains the values in the form key-value pair where the key name are unique. It is represented by {}."
      ]
    },
    {
      "cell_type": "code",
      "execution_count": null,
      "metadata": {
        "colab": {
          "base_uri": "https://localhost:8080/"
        },
        "id": "f_5kLgCqvwAs",
        "outputId": "584d1ca5-0138-40b0-d2fc-ec8a8f2ca707"
      },
      "outputs": [
        {
          "name": "stdout",
          "output_type": "stream",
          "text": [
            "<class 'list'>\n",
            "<class 'list'>\n",
            "India\n",
            "Australia\n",
            "USA\n",
            "England\n",
            "1 Test 25 Male 50000 True\n",
            "['India', 'Australia', 'USA', 'England', 'Newzeland']\n",
            "['France', 'India', 'Australia', 'USA', 'England', 'Newzeland']\n",
            "[1, 'Test', 25, 'Female', 50000, True]\n",
            "[1, 'Test', 25, 50000, True]\n"
          ]
        }
      ],
      "source": [
        "# List\n",
        "# Empty List.\n",
        "country = []\n",
        "# List with values\n",
        "country = [\"India\", \"Australia\", \"USA\", \"England\"]\n",
        "# List can also have different values\n",
        "employee = [1, \"Test\", 25, \"Male\", 50000, True]\n",
        "print(type(country))\n",
        "print(type(employee))\n",
        "# print values one by one.\n",
        "for c in country:\n",
        "  print(c)\n",
        "print(*employee)\n",
        "\n",
        "# Add new value to list.\n",
        "country.append(\"Newzeland\")\n",
        "print(country)\n",
        "\n",
        "# Insert add the new value at the position you want.\n",
        "country.insert(0, \"France\")\n",
        "print(country)\n",
        "\n",
        "# Update any record\n",
        "employee[3] = \"Female\"\n",
        "print(employee)\n",
        "\n",
        "# Remove \n",
        "employee.remove(\"Female\")\n",
        "print(employee)"
      ]
    },
    {
      "cell_type": "code",
      "execution_count": null,
      "metadata": {
        "colab": {
          "base_uri": "https://localhost:8080/"
        },
        "id": "otRBz8AOy1rZ",
        "outputId": "d41fe208-edd5-48b0-d89f-2931e12fa797"
      },
      "outputs": [
        {
          "name": "stdout",
          "output_type": "stream",
          "text": [
            "<class 'tuple'>\n",
            "('India', 'Australia', 'USA', 'England')\n",
            "India\n",
            "Australia\n",
            "USA\n",
            "England\n"
          ]
        }
      ],
      "source": [
        "# Tuple\n",
        "country = (\"India\", \"Australia\", \"USA\", \"England\")\n",
        "print(type(country))\n",
        "print(country)\n",
        "for c in country:\n",
        "  print(c)"
      ]
    },
    {
      "cell_type": "code",
      "execution_count": null,
      "metadata": {
        "colab": {
          "base_uri": "https://localhost:8080/"
        },
        "id": "lw6PaZmQz7ye",
        "outputId": "b4fb258a-2c9b-478b-bf63-af07b8ea9b70"
      },
      "outputs": [
        {
          "name": "stdout",
          "output_type": "stream",
          "text": [
            "<class 'set'>\n",
            "{'France', 'Australia', 'England', 'India', 'USA', 'Newzeland'}\n",
            "France\n",
            "Australia\n",
            "England\n",
            "India\n",
            "USA\n",
            "Newzeland\n",
            "{'France', 'Australia', 'England', 'Germany', 'India', 'USA', 'Newzeland'}\n",
            "{'France', 'Australia', 'Germany', 'India', 'USA', 'Newzeland'}\n"
          ]
        }
      ],
      "source": [
        "# Set\n",
        "country = {'France', 'India', 'Australia', 'USA', 'England', 'Newzeland','England'}\n",
        "print(type(country))\n",
        "print(country)\n",
        "for c in country:\n",
        "  print(c)\n",
        "\n",
        "# Append\n",
        "country.add(\"Germany\")\n",
        "print(country)\n",
        "\n",
        "# Remove\n",
        "country.remove(\"England\")\n",
        "print(country)"
      ]
    },
    {
      "cell_type": "code",
      "execution_count": null,
      "metadata": {
        "colab": {
          "base_uri": "https://localhost:8080/"
        },
        "id": "w8w-qktw0H_y",
        "outputId": "cb3c4df5-c9a3-4b73-bef9-857444ca0980"
      },
      "outputs": [
        {
          "name": "stdout",
          "output_type": "stream",
          "text": [
            "<class 'dict'>\n",
            "{'id': 15, 'name': 'test', 'gender': 'Male', 'salary': 5000.56}\n",
            "dict_keys(['id', 'name', 'gender', 'salary'])\n",
            "dict_values([15, 'test', 'Male', 5000.56])\n",
            "15\n",
            "5000.56\n",
            "id = 15\n",
            "name = test\n",
            "gender = Male\n",
            "salary = 5000.56\n"
          ]
        }
      ],
      "source": [
        "# Dictionary\n",
        "employee = {\"id\": 15, \"name\": \"test\", \"gender\": \"Male\", \"salary\": 5000.56}\n",
        "print(type(employee))\n",
        "print(employee)\n",
        "\n",
        "# Print all the key name.\n",
        "print(employee.keys())\n",
        "\n",
        "# Print all the value.\n",
        "print(employee.values())\n",
        "\n",
        "# Print the value of the key.\n",
        "print(employee[\"id\"])\n",
        "print(employee[\"salary\"])\n",
        "\n",
        "for k in employee.keys():\n",
        "  print(k, \"=\", employee[k] )"
      ]
    },
    {
      "cell_type": "code",
      "execution_count": null,
      "metadata": {
        "colab": {
          "base_uri": "https://localhost:8080/"
        },
        "id": "Sapl2zxi1E2Y",
        "outputId": "48be1d75-19f8-4a31-920f-186807794172"
      },
      "outputs": [
        {
          "name": "stdout",
          "output_type": "stream",
          "text": [
            "2\n",
            "6\n",
            "24\n",
            "120\n",
            "720\n",
            "5040\n",
            "40320\n",
            "362880\n",
            "3628800\n"
          ]
        }
      ],
      "source": [
        "# Find the factorial of number(数字的阶乘) from 2 to 10 using function\n",
        "def factorial(val):\n",
        "  fac = 1\n",
        "  for i in range(1,val+1):\n",
        "    fac *= i\n",
        "  return fac\n",
        "\n",
        "for j in range(2, 11):\n",
        "  print(factorial(j))\n"
      ]
    },
    {
      "cell_type": "code",
      "execution_count": 16,
      "metadata": {
        "colab": {
          "base_uri": "https://localhost:8080/"
        },
        "id": "37PO6PMl114J",
        "outputId": "81b775e0-28f9-42e8-e36a-d503f60c5545"
      },
      "outputs": [
        {
          "name": "stdout",
          "output_type": "stream",
          "text": [
            "----------- Mutliplication Table of 1 ----------\n",
            "1 x 1 = 1 \b\n",
            "1 x 2 = 2 \b\n",
            "1 x 3 = 3 \b\n",
            "1 x 4 = 4 \b\n",
            "1 x 5 = 5 \b\n",
            "1 x 6 = 6 \b\n",
            "1 x 7 = 7 \b\n",
            "1 x 8 = 8 \b\n",
            "1 x 9 = 9 \b\n",
            "1 x 10 = 10 \b\n",
            "----------- Mutliplication Table of 2 ----------\n",
            "2 x 1 = 2 \b\n",
            "2 x 2 = 4 \b\n",
            "2 x 3 = 6 \b\n",
            "2 x 4 = 8 \b\n",
            "2 x 5 = 10 \b\n",
            "2 x 6 = 12 \b\n",
            "2 x 7 = 14 \b\n",
            "2 x 8 = 16 \b\n",
            "2 x 9 = 18 \b\n",
            "2 x 10 = 20 \b\n",
            "----------- Mutliplication Table of 3 ----------\n",
            "3 x 1 = 3 \b\n",
            "3 x 2 = 6 \b\n",
            "3 x 3 = 9 \b\n",
            "3 x 4 = 12 \b\n",
            "3 x 5 = 15 \b\n",
            "3 x 6 = 18 \b\n",
            "3 x 7 = 21 \b\n",
            "3 x 8 = 24 \b\n",
            "3 x 9 = 27 \b\n",
            "3 x 10 = 30 \b\n",
            "----------- Mutliplication Table of 4 ----------\n",
            "4 x 1 = 4 \b\n",
            "4 x 2 = 8 \b\n",
            "4 x 3 = 12 \b\n",
            "4 x 4 = 16 \b\n",
            "4 x 5 = 20 \b\n",
            "4 x 6 = 24 \b\n",
            "4 x 7 = 28 \b\n",
            "4 x 8 = 32 \b\n",
            "4 x 9 = 36 \b\n",
            "4 x 10 = 40 \b\n",
            "----------- Mutliplication Table of 5 ----------\n",
            "5 x 1 = 5 \b\n",
            "5 x 2 = 10 \b\n",
            "5 x 3 = 15 \b\n",
            "5 x 4 = 20 \b\n",
            "5 x 5 = 25 \b\n",
            "5 x 6 = 30 \b\n",
            "5 x 7 = 35 \b\n",
            "5 x 8 = 40 \b\n",
            "5 x 9 = 45 \b\n",
            "5 x 10 = 50 \b\n",
            "----------- Mutliplication Table of 6 ----------\n",
            "6 x 1 = 6 \b\n",
            "6 x 2 = 12 \b\n",
            "6 x 3 = 18 \b\n",
            "6 x 4 = 24 \b\n",
            "6 x 5 = 30 \b\n",
            "6 x 6 = 36 \b\n",
            "6 x 7 = 42 \b\n",
            "6 x 8 = 48 \b\n",
            "6 x 9 = 54 \b\n",
            "6 x 10 = 60 \b\n",
            "----------- Mutliplication Table of 7 ----------\n",
            "7 x 1 = 7 \b\n",
            "7 x 2 = 14 \b\n",
            "7 x 3 = 21 \b\n",
            "7 x 4 = 28 \b\n",
            "7 x 5 = 35 \b\n",
            "7 x 6 = 42 \b\n",
            "7 x 7 = 49 \b\n",
            "7 x 8 = 56 \b\n",
            "7 x 9 = 63 \b\n",
            "7 x 10 = 70 \b\n",
            "----------- Mutliplication Table of 8 ----------\n",
            "8 x 1 = 8 \b\n",
            "8 x 2 = 16 \b\n",
            "8 x 3 = 24 \b\n",
            "8 x 4 = 32 \b\n",
            "8 x 5 = 40 \b\n",
            "8 x 6 = 48 \b\n",
            "8 x 7 = 56 \b\n",
            "8 x 8 = 64 \b\n",
            "8 x 9 = 72 \b\n",
            "8 x 10 = 80 \b\n",
            "----------- Mutliplication Table of 9 ----------\n",
            "9 x 1 = 9 \b\n",
            "9 x 2 = 18 \b\n",
            "9 x 3 = 27 \b\n",
            "9 x 4 = 36 \b\n",
            "9 x 5 = 45 \b\n",
            "9 x 6 = 54 \b\n",
            "9 x 7 = 63 \b\n",
            "9 x 8 = 72 \b\n",
            "9 x 9 = 81 \b\n",
            "9 x 10 = 90 \b\n",
            "----------- Mutliplication Table of 10 ----------\n",
            "10 x 1 = 10 \b\n",
            "10 x 2 = 20 \b\n",
            "10 x 3 = 30 \b\n",
            "10 x 4 = 40 \b\n",
            "10 x 5 = 50 \b\n",
            "10 x 6 = 60 \b\n",
            "10 x 7 = 70 \b\n",
            "10 x 8 = 80 \b\n",
            "10 x 9 = 90 \b\n",
            "10 x 10 = 100 \b\n",
            "-------------------- The End --------------------\n"
          ]
        }
      ],
      "source": [
        "# Print the table from 2 to 10 using function like this:\n",
        "# 2x1= 2, 2x2=4,...\n",
        "def multiplicationTable(num):\n",
        "  for i in range(1, num + 1):\n",
        "    print(\"----------- Mutliplication Table of\", i, \"----------\")\n",
        "    for j in range(1, num + 1):\n",
        "      print(*(i, \"x\", j, \"=\", i*j),\"\\b\") \n",
        "  print(\"-------------------- The End --------------------\")  \n",
        "  return\n",
        "\n",
        "multiplicationTable(10)"
      ]
    },
    {
      "cell_type": "code",
      "execution_count": null,
      "metadata": {
        "id": "Z3e8UQ4j6r2-"
      },
      "outputs": [],
      "source": []
    }
  ],
  "metadata": {
    "colab": {
      "provenance": []
    },
    "kernelspec": {
      "display_name": "Python 3",
      "name": "python3"
    },
    "language_info": {
      "name": "python"
    }
  },
  "nbformat": 4,
  "nbformat_minor": 0
}
