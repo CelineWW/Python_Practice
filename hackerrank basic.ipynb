{
 "cells": [
  {
   "attachments": {},
   "cell_type": "markdown",
   "metadata": {},
   "source": [
    "# List or String Conbiming"
   ]
  },
  {
   "cell_type": "code",
   "execution_count": 4,
   "metadata": {},
   "outputs": [
    {
     "name": "stdout",
     "output_type": "stream",
     "text": [
      "123456789\n"
     ]
    }
   ],
   "source": [
    "# The included code stub will read an integer, from STDIN.\n",
    "# Without using any string methods, try to print the following: 123...n\n",
    "# Note that \"...\" represents the consecutive values in between.Example \n",
    "# Example: n=5\n",
    "# Print the string 12345.\n",
    "n = 9\n",
    "    \n",
    "mystring = \"\"\n",
    "for i in range(1,n+1):\n",
    "    mystring += str(i)\n",
    "\n",
    "print(mystring)"
   ]
  },
  {
   "cell_type": "code",
   "execution_count": 5,
   "metadata": {},
   "outputs": [
    {
     "name": "stdout",
     "output_type": "stream",
     "text": [
      "123456789\n"
     ]
    }
   ],
   "source": [
    "list = []\n",
    "for i in range(1, n+1):\n",
    "    list.append(i)\n",
    "    \n",
    "print(*list, sep='')"
   ]
  },
  {
   "attachments": {},
   "cell_type": "markdown",
   "metadata": {},
   "source": [
    "# Sort Array Function"
   ]
  },
  {
   "cell_type": "code",
   "execution_count": 36,
   "metadata": {},
   "outputs": [
    {
     "name": "stdout",
     "output_type": "stream",
     "text": [
      "[   3    5    6   34   45 4554]\n"
     ]
    }
   ],
   "source": [
    "# write a function that return sorted array.\n",
    "import numpy as np\n",
    "def sort_array(arr):\n",
    "    return np.sort(arr)\n",
    "\n",
    "a = np.array([3, 5, 34, 6, 4554, 45])\n",
    "print(sort_array(a))"
   ]
  },
  {
   "cell_type": "code",
   "execution_count": 39,
   "metadata": {},
   "outputs": [
    {
     "name": "stdout",
     "output_type": "stream",
     "text": [
      "[   3    5    6   34   45   46   47  234 4554]\n"
     ]
    }
   ],
   "source": [
    "b = np.array([3, 5, 234,46,47, 34, 6, 4554, 45])\n",
    "\n",
    "def sort_array(arr):\n",
    "    return np.sort(arr)\n",
    "print(sort_array(b))"
   ]
  },
  {
   "cell_type": "code",
   "execution_count": 34,
   "metadata": {},
   "outputs": [
    {
     "name": "stdout",
     "output_type": "stream",
     "text": [
      "{23: 'apple', 15: 'banana', 40: 'kiwi', 67: 'strawberry'}\n",
      "[23, 15, 40, 67]\n",
      "[23, 15, 40, 67]\n",
      "36.25\n"
     ]
    }
   ],
   "source": [
    "# Calculate Mean of keys of dicts in a list\n",
    "fruit = [{23: \"apple\"}, {15: \"banana\"}, {40: \"kiwi\"}, {67: \"strawberry\"}]\n",
    "# mylist = []\n",
    "# for i in fruit:\n",
    "#     mylist.append(i.keys())\n",
    "# print(mylist)\n",
    "\n",
    "# keylist = list(int(i.keys()) for i in fruit)\n",
    "# print(keylist)\n",
    "# mean = sum(keylist)/len(keylist)\n",
    "# print(mean)\n",
    "\n",
    "fruit_dict = {} \n",
    "for i in fruit:      \n",
    "    fruit_dict.update(i)\n",
    "print(fruit_dict)\n",
    "\n",
    "list1 = [int(f) for f in fruit_dict]\n",
    "list2 = [f for f in fruit_dict.keys()]\n",
    "\n",
    "print(list1)\n",
    "print(list2)\n",
    "\n",
    "\n",
    "mean = sum(fruit_dict.keys())/len(fruit_dict.keys())\n",
    "print(mean)"
   ]
  },
  {
   "cell_type": "code",
   "execution_count": 45,
   "metadata": {},
   "outputs": [
    {
     "name": "stdout",
     "output_type": "stream",
     "text": [
      "{23: 'apple', 15: 'banana', 40: 'kiwi', 67: 'strawberry'}\n",
      "36.25\n"
     ]
    }
   ],
   "source": [
    "fruit1 = [{23: \"apple\"}, {15: \"banana\"}, {40: \"kiwi\"}, {67: \"strawberry\"}]\n",
    "fruit_dict1 = {}\n",
    "for f in fruit:\n",
    "    fruit_dict1.update(f)\n",
    "print(fruit_dict1)\n",
    "\n",
    "num = [i for i in fruit_dict1.keys()]\n",
    "mean = sum(num)/len(num)\n",
    "print(mean)"
   ]
  },
  {
   "attachments": {},
   "cell_type": "markdown",
   "metadata": {},
   "source": [
    "#Reverse numpy array and chage data type"
   ]
  },
  {
   "cell_type": "code",
   "execution_count": 2,
   "metadata": {},
   "outputs": [
    {
     "name": "stdout",
     "output_type": "stream",
     "text": [
      "2\n",
      "2.0\n"
     ]
    }
   ],
   "source": [
    "# reverse numpy array and make it type to be folat.\n",
    "import numpy\n",
    "\n",
    "a = numpy.array([1,2,3,4,5])\n",
    "print(a[1])          #2\n",
    "\n",
    "b = numpy.array([1,2,3,4,5],float)\n",
    "print(b[1])          #2.0"
   ]
  },
  {
   "cell_type": "code",
   "execution_count": 8,
   "metadata": {},
   "outputs": [
    {
     "ename": "ValueError",
     "evalue": "could not convert string to float: ''",
     "output_type": "error",
     "traceback": [
      "\u001b[0;31m---------------------------------------------------------------------------\u001b[0m",
      "\u001b[0;31mValueError\u001b[0m                                Traceback (most recent call last)",
      "Cell \u001b[0;32mIn [8], line 8\u001b[0m\n\u001b[1;32m      5\u001b[0m     \u001b[39mreturn\u001b[39;00m numpy\u001b[39m.\u001b[39marray(arr, \u001b[39mfloat\u001b[39m)\n\u001b[1;32m      7\u001b[0m arr \u001b[39m=\u001b[39m \u001b[39minput\u001b[39m()\u001b[39m.\u001b[39mstrip()\u001b[39m.\u001b[39msplit(\u001b[39m'\u001b[39m\u001b[39m \u001b[39m\u001b[39m'\u001b[39m)\n\u001b[0;32m----> 8\u001b[0m result \u001b[39m=\u001b[39m arrays(arr)\n\u001b[1;32m      9\u001b[0m \u001b[39mprint\u001b[39m(result)\n",
      "Cell \u001b[0;32mIn [8], line 5\u001b[0m, in \u001b[0;36marrays\u001b[0;34m(arr)\u001b[0m\n\u001b[1;32m      3\u001b[0m \u001b[39mdef\u001b[39;00m \u001b[39marrays\u001b[39m(arr):\n\u001b[1;32m      4\u001b[0m     arr\u001b[39m.\u001b[39mreverse()\n\u001b[0;32m----> 5\u001b[0m     \u001b[39mreturn\u001b[39;00m numpy\u001b[39m.\u001b[39;49marray(arr, \u001b[39mfloat\u001b[39;49m)\n",
      "\u001b[0;31mValueError\u001b[0m: could not convert string to float: ''"
     ]
    }
   ],
   "source": [
    "import numpy\n",
    "\n",
    "def arrays(arr):\n",
    "    arr.reverse()\n",
    "    return numpy.array(arr, float)\n",
    "\n",
    "arr = input().strip().split(' ')\n",
    "result = arrays(arr)\n",
    "print(result)\n"
   ]
  },
  {
   "cell_type": "code",
   "execution_count": null,
   "metadata": {},
   "outputs": [],
   "source": []
  }
 ],
 "metadata": {
  "kernelspec": {
   "display_name": "Python 3",
   "language": "python",
   "name": "python3"
  },
  "language_info": {
   "codemirror_mode": {
    "name": "ipython",
    "version": 3
   },
   "file_extension": ".py",
   "mimetype": "text/x-python",
   "name": "python",
   "nbconvert_exporter": "python",
   "pygments_lexer": "ipython3",
   "version": "3.10.6"
  },
  "orig_nbformat": 4,
  "vscode": {
   "interpreter": {
    "hash": "aee8b7b246df8f9039afb4144a1f6fd8d2ca17a180786b69acc140d282b71a49"
   }
  }
 },
 "nbformat": 4,
 "nbformat_minor": 2
}
